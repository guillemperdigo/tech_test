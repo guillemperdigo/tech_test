{
 "cells": [
  {
   "cell_type": "code",
   "execution_count": 20,
   "metadata": {},
   "outputs": [],
   "source": [
    "import numpy as np\n",
    "import pandas as pd"
   ]
  },
  {
   "cell_type": "markdown",
   "metadata": {},
   "source": [
    "### 1. Dataframe manipulation\n",
    "\n",
    "#### 1.1. Adding a new column\n",
    "\n",
    "Pandas dataframes are python's tables to store data in columns and rows. This dataframe contains information about 5 countries.\n",
    "\n",
    "The data comes from https://www.worldometers.info/ \n",
    "\n",
    "Add a column containing the area of the countries in squared km:\n",
    "\n",
    "- Germany: 357114\n",
    "\n",
    "- Egypt: 1002450\n",
    "\n",
    "- India: 3287590\n",
    "\n",
    "- Brazil: 8515767\n",
    "\n",
    "- Australia: 7692024\n",
    "\n",
    "\n",
    "STEP 1: create a list called `areas` with the area of each country, separated by commas.\n",
    "\n",
    "STEP 2: add this list as a column of the `pop_by_country` dataframe. Call the column `area_km2`."
   ]
  },
  {
   "cell_type": "code",
   "execution_count": 21,
   "metadata": {},
   "outputs": [
    {
     "data": {
      "text/html": [
       "<div>\n",
       "<style scoped>\n",
       "    .dataframe tbody tr th:only-of-type {\n",
       "        vertical-align: middle;\n",
       "    }\n",
       "\n",
       "    .dataframe tbody tr th {\n",
       "        vertical-align: top;\n",
       "    }\n",
       "\n",
       "    .dataframe thead th {\n",
       "        text-align: right;\n",
       "    }\n",
       "</style>\n",
       "<table border=\"1\" class=\"dataframe\">\n",
       "  <thead>\n",
       "    <tr style=\"text-align: right;\">\n",
       "      <th></th>\n",
       "      <th>country</th>\n",
       "      <th>population</th>\n",
       "      <th>gdp</th>\n",
       "    </tr>\n",
       "  </thead>\n",
       "  <tbody>\n",
       "    <tr>\n",
       "      <th>0</th>\n",
       "      <td>Germany</td>\n",
       "      <td>83783942</td>\n",
       "      <td>3693204332230</td>\n",
       "    </tr>\n",
       "    <tr>\n",
       "      <th>1</th>\n",
       "      <td>Egypt</td>\n",
       "      <td>102334404</td>\n",
       "      <td>235369129338</td>\n",
       "    </tr>\n",
       "    <tr>\n",
       "      <th>2</th>\n",
       "      <td>India</td>\n",
       "      <td>1380004385</td>\n",
       "      <td>2650725335364</td>\n",
       "    </tr>\n",
       "    <tr>\n",
       "      <th>3</th>\n",
       "      <td>Brazil</td>\n",
       "      <td>212559417</td>\n",
       "      <td>2053594877013</td>\n",
       "    </tr>\n",
       "    <tr>\n",
       "      <th>4</th>\n",
       "      <td>Australia</td>\n",
       "      <td>25499884</td>\n",
       "      <td>1323421072479</td>\n",
       "    </tr>\n",
       "  </tbody>\n",
       "</table>\n",
       "</div>"
      ],
      "text/plain": [
       "     country  population            gdp\n",
       "0    Germany    83783942  3693204332230\n",
       "1      Egypt   102334404   235369129338\n",
       "2      India  1380004385  2650725335364\n",
       "3     Brazil   212559417  2053594877013\n",
       "4  Australia    25499884  1323421072479"
      ]
     },
     "execution_count": 21,
     "metadata": {},
     "output_type": "execute_result"
    }
   ],
   "source": [
    "# initial code\n",
    "\n",
    "countries = [\"Germany\", \"Egypt\", \"India\", \"Brazil\", \"Australia\"]\n",
    "populations = [83783942, 102334404, 1380004385, 212559417, 25499884]\n",
    "gdps = [3693204332230, 235369129338, 2650725335364, 2053594877013, 1323421072479]\n",
    "\n",
    "pop_by_country = pd.DataFrame({\n",
    "    \"country\": countries,\n",
    "    \"population\": populations,\n",
    "    \"gdp\": gdps\n",
    "})\n",
    "\n",
    "pop_by_country"
   ]
  },
  {
   "cell_type": "code",
   "execution_count": 22,
   "metadata": {},
   "outputs": [
    {
     "data": {
      "text/html": [
       "<div>\n",
       "<style scoped>\n",
       "    .dataframe tbody tr th:only-of-type {\n",
       "        vertical-align: middle;\n",
       "    }\n",
       "\n",
       "    .dataframe tbody tr th {\n",
       "        vertical-align: top;\n",
       "    }\n",
       "\n",
       "    .dataframe thead th {\n",
       "        text-align: right;\n",
       "    }\n",
       "</style>\n",
       "<table border=\"1\" class=\"dataframe\">\n",
       "  <thead>\n",
       "    <tr style=\"text-align: right;\">\n",
       "      <th></th>\n",
       "      <th>country</th>\n",
       "      <th>population</th>\n",
       "      <th>gdp</th>\n",
       "      <th>area_km2</th>\n",
       "    </tr>\n",
       "  </thead>\n",
       "  <tbody>\n",
       "    <tr>\n",
       "      <th>0</th>\n",
       "      <td>Germany</td>\n",
       "      <td>83783942</td>\n",
       "      <td>3693204332230</td>\n",
       "      <td>357114</td>\n",
       "    </tr>\n",
       "    <tr>\n",
       "      <th>1</th>\n",
       "      <td>Egypt</td>\n",
       "      <td>102334404</td>\n",
       "      <td>235369129338</td>\n",
       "      <td>1002450</td>\n",
       "    </tr>\n",
       "    <tr>\n",
       "      <th>2</th>\n",
       "      <td>India</td>\n",
       "      <td>1380004385</td>\n",
       "      <td>2650725335364</td>\n",
       "      <td>3287590</td>\n",
       "    </tr>\n",
       "    <tr>\n",
       "      <th>3</th>\n",
       "      <td>Brazil</td>\n",
       "      <td>212559417</td>\n",
       "      <td>2053594877013</td>\n",
       "      <td>8515767</td>\n",
       "    </tr>\n",
       "    <tr>\n",
       "      <th>4</th>\n",
       "      <td>Australia</td>\n",
       "      <td>25499884</td>\n",
       "      <td>1323421072479</td>\n",
       "      <td>7692024</td>\n",
       "    </tr>\n",
       "  </tbody>\n",
       "</table>\n",
       "</div>"
      ],
      "text/plain": [
       "     country  population            gdp  area_km2\n",
       "0    Germany    83783942  3693204332230    357114\n",
       "1      Egypt   102334404   235369129338   1002450\n",
       "2      India  1380004385  2650725335364   3287590\n",
       "3     Brazil   212559417  2053594877013   8515767\n",
       "4  Australia    25499884  1323421072479   7692024"
      ]
     },
     "execution_count": 22,
     "metadata": {},
     "output_type": "execute_result"
    }
   ],
   "source": [
    "# solution\n",
    "\n",
    "countries = [\"Germany\", \"Egypt\", \"India\", \"Brazil\", \"Australia\"]\n",
    "\n",
    "populations = [83783942, 102334404, 1380004385, 212559417, 25499884]\n",
    "gdps = [3693204332230, 235369129338, 2650725335364, 2053594877013, 1323421072479]\n",
    "\n",
    "# STEP 1\n",
    "areas = [357114, 1002450, 3287590, 8515767, 7692024]\n",
    "\n",
    "pop_by_country = pd.DataFrame({\n",
    "    \"country\": countries,\n",
    "    \"population\": populations,\n",
    "    \"gdp\": gdps,\n",
    "    \"area_km2\": areas # STEP 2\n",
    "})\n",
    "\n",
    "pop_by_country"
   ]
  },
  {
   "cell_type": "markdown",
   "metadata": {},
   "source": [
    "#### 1.2 Creating new columns from existing ones\n",
    "\n",
    "The total gdp of a country doesn't tell us much about how wealthy the people living on it actually are. Let's add a new column with the gdp per capita instead"
   ]
  },
  {
   "cell_type": "code",
   "execution_count": 35,
   "metadata": {},
   "outputs": [],
   "source": [
    "pop_by_country[\"gdp_per_capita\"] = pop_by_country[\"gdp\"] / pop_by_country[\"population\"]\n",
    "\n",
    "pop_by_country[\"gdp_per_capita\"] = pop_by_country[\"gdp_per_capita\"].astype(\"int\")\n",
    "\n",
    "#pop_by_country.sort_values(by=\"gdp_per_capita\", ascending = False)"
   ]
  },
  {
   "cell_type": "markdown",
   "metadata": {},
   "source": [
    "Nice! Now our dataframe is much more informative. Note that, in addition to adding the new column `gdp_per_capita`, we have also converted it to a different data type: integer. We do this to remove the decimals.\n",
    "\n",
    "Your turn: we want to add a new column for the population density of each country.\n",
    "\n",
    "STEP 1: create a column called \"density\", that contains the number of people per square kilometer.\n",
    "\n",
    "STEP 2: convert this column data type to integer (\"int\")."
   ]
  },
  {
   "cell_type": "code",
   "execution_count": 24,
   "metadata": {},
   "outputs": [],
   "source": [
    "# solution\n",
    "\n",
    "# STEP 1\n",
    "pop_by_country[\"density\"] = pop_by_country[\"population\"] / pop_by_country[\"area_km2\"]\n",
    "\n",
    "# STEP 2\n",
    "pop_by_country[\"density\"] = pop_by_country[\"density\"].astype(\"int\")"
   ]
  },
  {
   "cell_type": "code",
   "execution_count": 25,
   "metadata": {},
   "outputs": [
    {
     "data": {
      "text/html": [
       "<div>\n",
       "<style scoped>\n",
       "    .dataframe tbody tr th:only-of-type {\n",
       "        vertical-align: middle;\n",
       "    }\n",
       "\n",
       "    .dataframe tbody tr th {\n",
       "        vertical-align: top;\n",
       "    }\n",
       "\n",
       "    .dataframe thead th {\n",
       "        text-align: right;\n",
       "    }\n",
       "</style>\n",
       "<table border=\"1\" class=\"dataframe\">\n",
       "  <thead>\n",
       "    <tr style=\"text-align: right;\">\n",
       "      <th></th>\n",
       "      <th>country</th>\n",
       "      <th>population</th>\n",
       "      <th>gdp</th>\n",
       "      <th>area_km2</th>\n",
       "      <th>gdp_per_capita</th>\n",
       "      <th>density</th>\n",
       "    </tr>\n",
       "  </thead>\n",
       "  <tbody>\n",
       "    <tr>\n",
       "      <th>0</th>\n",
       "      <td>Germany</td>\n",
       "      <td>83783942</td>\n",
       "      <td>3693204332230</td>\n",
       "      <td>357114</td>\n",
       "      <td>44080</td>\n",
       "      <td>234</td>\n",
       "    </tr>\n",
       "    <tr>\n",
       "      <th>1</th>\n",
       "      <td>Egypt</td>\n",
       "      <td>102334404</td>\n",
       "      <td>235369129338</td>\n",
       "      <td>1002450</td>\n",
       "      <td>2300</td>\n",
       "      <td>102</td>\n",
       "    </tr>\n",
       "    <tr>\n",
       "      <th>2</th>\n",
       "      <td>India</td>\n",
       "      <td>1380004385</td>\n",
       "      <td>2650725335364</td>\n",
       "      <td>3287590</td>\n",
       "      <td>1920</td>\n",
       "      <td>419</td>\n",
       "    </tr>\n",
       "    <tr>\n",
       "      <th>3</th>\n",
       "      <td>Brazil</td>\n",
       "      <td>212559417</td>\n",
       "      <td>2053594877013</td>\n",
       "      <td>8515767</td>\n",
       "      <td>9661</td>\n",
       "      <td>24</td>\n",
       "    </tr>\n",
       "    <tr>\n",
       "      <th>4</th>\n",
       "      <td>Australia</td>\n",
       "      <td>25499884</td>\n",
       "      <td>1323421072479</td>\n",
       "      <td>7692024</td>\n",
       "      <td>51899</td>\n",
       "      <td>3</td>\n",
       "    </tr>\n",
       "  </tbody>\n",
       "</table>\n",
       "</div>"
      ],
      "text/plain": [
       "     country  population            gdp  area_km2  gdp_per_capita  density\n",
       "0    Germany    83783942  3693204332230    357114           44080      234\n",
       "1      Egypt   102334404   235369129338   1002450            2300      102\n",
       "2      India  1380004385  2650725335364   3287590            1920      419\n",
       "3     Brazil   212559417  2053594877013   8515767            9661       24\n",
       "4  Australia    25499884  1323421072479   7692024           51899        3"
      ]
     },
     "execution_count": 25,
     "metadata": {},
     "output_type": "execute_result"
    }
   ],
   "source": [
    "pop_by_country"
   ]
  },
  {
   "cell_type": "markdown",
   "metadata": {},
   "source": [
    "### 2. Dataviz tweaking and interpretation\n",
    "\n",
    "We have recorded the heigh of 40 adults of a group. Drawing a histogram will help us understand the heigh distribution of this group with a simple glance. A histogram orders data points ascendingly and groups them into bins, which are represented by contiguous columns. It's really helpful to interpret data... but only if we build it properly!\n",
    "\n",
    "Right now, our histogram is grouping all the data points into only 3 big groups (bins). We need a bit more detail to understand what's going on in there. Also, the figure is quite small and the font of the labels for the heigh is unreadable.\n",
    "\n",
    "- STEP 1: Group the data into 8 bins.\n",
    "\n",
    "- STEP 2: Change the size of the plot to 8 by 6.\n",
    "\n",
    "- STEP 3: Make the labels for the heights match the size of the labels for the frequency (size 14).\n",
    "\n",
    "- STEP 4: Display a cleaner graph by removing the grid lines."
   ]
  },
  {
   "cell_type": "code",
   "execution_count": 36,
   "metadata": {},
   "outputs": [
    {
     "data": {
      "image/png": "[encoded data removed]",
      "text/plain": [
       "<Figure size 216x360 with 1 Axes>"
      ]
     },
     "metadata": {
      "needs_background": "light"
     },
     "output_type": "display_data"
    }
   ],
   "source": [
    "# initial code\n",
    "\n",
    "heighs_list = pd.Series([184, 169, 191, 169, 181, 190, 177, 191, 195, 187, 172, 180, 178,\n",
    "                         198, 199, 176, 189, 191, 185, 165, 170, 160, 192, 193, 174, 178,\n",
    "                         189, 187, 182, 170, 189, 177, 180, 189, 169, 187, 198, 180, 186, 179])\n",
    "\n",
    "heighs_list.hist(grid=True,\n",
    "            bins=3,\n",
    "            figsize=(3,5),\n",
    "            ylabelsize=14,\n",
    "            xlabelsize=6);"
   ]
  },
  {
   "cell_type": "code",
   "execution_count": 37,
   "metadata": {},
   "outputs": [
    {
     "data": {
      "image/png": "[encoded data removed]",
      "text/plain": [
       "<Figure size 576x432 with 1 Axes>"
      ]
     },
     "metadata": {
      "needs_background": "light"
     },
     "output_type": "display_data"
    }
   ],
   "source": [
    "# solution\n",
    "\n",
    "heighs_list = pd.Series([184, 169, 191, 169, 181, 190, 177, 191, 195, 187, 172, 180, 178,\n",
    "                         198, 199, 176, 189, 191, 185, 165, 170, 160, 192, 193, 174, 178,\n",
    "                         189, 187, 182, 170, 189, 177, 180, 189, 169, 187, 198, 180, 186, 179])\n",
    "\n",
    "heighs_list.hist(grid=False,  # STEP 4\n",
    "            bins=8,           # STEP 1\n",
    "            figsize=(8,6),    # STEP 2\n",
    "            ylabelsize=14,\n",
    "            xlabelsize=14);   # STEP 3"
   ]
  },
  {
   "cell_type": "markdown",
   "metadata": {},
   "source": [
    "### 3. Calculate the median\n",
    "\n",
    "If you have a list of numbers and you order it ascendingly, the number that falls exactly in the middle is the **median**. It can aslo be called the \"center of the distribution\" or the \"50th percentile\".\n",
    "\n",
    "What's the median form the following list?"
   ]
  },
  {
   "cell_type": "code",
   "execution_count": 38,
   "metadata": {},
   "outputs": [],
   "source": [
    "list_of_numbers = [4, 2, 10, 3, 8, 9, 12, 1, 10]"
   ]
  },
  {
   "cell_type": "code",
   "execution_count": 39,
   "metadata": {},
   "outputs": [
    {
     "data": {
      "text/plain": [
       "8.0"
      ]
     },
     "execution_count": 39,
     "metadata": {},
     "output_type": "execute_result"
    }
   ],
   "source": [
    "# solution is 8\n",
    "np.median(list_of_numbers)"
   ]
  },
  {
   "cell_type": "markdown",
   "metadata": {},
   "source": [
    "Correct! The median is 8. What would be the median if we changed one of the numbers to something really extreme?"
   ]
  },
  {
   "cell_type": "code",
   "execution_count": 40,
   "metadata": {},
   "outputs": [],
   "source": [
    "list_of_numbers_2 = [4, 2, 10, 3, 8, 9, 12, 1, 10000]"
   ]
  },
  {
   "cell_type": "code",
   "execution_count": 41,
   "metadata": {},
   "outputs": [
    {
     "data": {
      "text/plain": [
       "8.0"
      ]
     },
     "execution_count": 41,
     "metadata": {},
     "output_type": "execute_result"
    }
   ],
   "source": [
    "np.median(list_of_numbers_2)"
   ]
  },
  {
   "cell_type": "markdown",
   "metadata": {},
   "source": [
    "Exactly, still 8! This is why the median is considered a _robust_ metric: it's not affected by a few extreme values. The mean, on the other side, jumped from `6.5` to `1116.5` from the first list to the second one!"
   ]
  },
  {
   "attachments": {
    "image-2.png": {
     "image/png": "[encoded data removed]"
    }
   },
   "cell_type": "markdown",
   "metadata": {},
   "source": [
    "### 4. Calculate the standard deviation of a population\n",
    "\n",
    "A cohort of five students take a test, and their grades are `9`, `7`, `4`, `2`, `1` and `1`. The average grade is `4`, but some students seem to do really well, while others fail miserably. The teacher wants to have a measure for how disperse these numbers are.\n",
    "\n",
    "The standard deviation measures exactly that: the typical distance between each data point and the mean.\n",
    "\n",
    "The formula for the standard deviation of a population is the following:\n",
    "\n",
    "![image-2.png](attachment:image-2.png)\n",
    "\n",
    "Learn more about the standard deviation here: https://www.khanacademy.org/math/statistics-probability/summarizing-quantitative-data/variance-standard-deviation-sample/a/population-and-sample-standard-deviation-review \n",
    "\n",
    "Watch this video for a calculation of the formula by hand: https://www.youtube.com/watch?v=HvDqbzu0i0E \n",
    "\n",
    "Calculate the standard deviation for the grades of our cohort and round the result to the closest whole number (without any decimal).\n",
    "\n",
    "You can do it by hand, using a calculator or any piece of software you have -- however, if you're using a function from a program (such as Excel or python), make sure it's using the same formula we're displaying here under the hood!"
   ]
  },
  {
   "cell_type": "code",
   "execution_count": 34,
   "metadata": {},
   "outputs": [
    {
     "data": {
      "text/plain": [
       "3"
      ]
     },
     "execution_count": 34,
     "metadata": {},
     "output_type": "execute_result"
    }
   ],
   "source": [
    "# the solution is 3 as shown by the following code\n",
    "\n",
    "round(np.std([9, 7, 4, 2, 1, 1]))"
   ]
  }
 ],
 "metadata": {
  "kernelspec": {
   "display_name": "Python 3",
   "language": "python",
   "name": "python3"
  },
  "language_info": {
   "codemirror_mode": {
    "name": "ipython",
    "version": 3
   },
   "file_extension": ".py",
   "mimetype": "text/x-python",
   "name": "python",
   "nbconvert_exporter": "python",
   "pygments_lexer": "ipython3",
   "version": "3.8.5"
  }
 },
 "nbformat": 4,
 "nbformat_minor": 4
}
